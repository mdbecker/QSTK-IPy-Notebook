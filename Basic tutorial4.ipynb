{
 "metadata": {
  "name": "Basic tutorial4"
 },
 "nbformat": 3,
 "nbformat_minor": 0,
 "worksheets": [
  {
   "cells": [
    {
     "cell_type": "code",
     "collapsed": true,
     "input": [
      "'''\n",
      "(c) 2011, 2012 Georgia Tech Research Corporation\n",
      "This source code is released under the New BSD license.  Please see\n",
      "http://wiki.quantsoftware.org/index.php?title=QSTK_License\n",
      "for license details.\n",
      "\n",
      "Created on January, 24, 2013\n",
      "\n",
      "@author: Sourabh Bajaj\n",
      "@contact: sourabhbajaj@gatech.edu\n",
      "@summary: Example tutorial code. Basic tutorial4\n",
      "\n",
      "Converted to IPython Notebook format by Michael Becker mike@beckerfuffle.com\n",
      "'''"
     ],
     "language": "python",
     "metadata": {},
     "outputs": [
      {
       "output_type": "pyout",
       "prompt_number": 1,
       "text": [
        "'\\n(c) 2011, 2012 Georgia Tech Research Corporation\\nThis source code is released under the New BSD license.  Please see\\nhttp://wiki.quantsoftware.org/index.php?title=QSTK_License\\nfor license details.\\n\\nCreated on January, 24, 2013\\n\\n@author: Sourabh Bajaj\\n@contact: sourabhbajaj@gatech.edu\\n@summary: Example tutorial code. Basic tutorial4\\n\\nConverted to IPython Notebook format by Michael Becker mike@beckerfuffle.com\\n'"
       ]
      }
     ],
     "prompt_number": 1
    },
    {
     "cell_type": "code",
     "collapsed": false,
     "input": [
      "# QSTK Imports\n",
      "import QSTK.qstkutil.qsdateutil as du\n",
      "import QSTK.qstkutil.tsutil as tsu\n",
      "import QSTK.qstkutil.DataAccess as da\n",
      "\n",
      "# Third Party Imports\n",
      "import datetime as dt\n",
      "import pandas as pd\n",
      "import numpy as np\n",
      "import cPickle"
     ],
     "language": "python",
     "metadata": {},
     "outputs": [],
     "prompt_number": 2
    },
    {
     "cell_type": "code",
     "collapsed": false,
     "input": [
      "# Start and End date of the charts\n",
      "dt_start = dt.datetime(2004, 1, 1)\n",
      "dt_end = dt.datetime(2009, 12, 31)\n",
      "\n",
      "# We need closing prices so the timestamp should be hours=16.\n",
      "dt_timeofday = dt.timedelta(hours=16)\n",
      "\n",
      "# Get a list of trading days between the start and the end.\n",
      "ldt_timestamps = du.getNYSEdays(dt_start, dt_end, dt_timeofday)\n",
      "\n",
      "# Creating an object of the dataaccess class with Yahoo as the source.\n",
      "c_dataobj = da.DataAccess('Yahoo')\n",
      "\n",
      "# List of symbols - First 20\n",
      "ls_symbols = c_dataobj.get_symbols_from_list('sp5002012')\n",
      "ls_symbols = ls_symbols[:20]\n",
      "ls_symbols.append('_CASH')\n",
      "\n",
      "# Creating the first allocation row\n",
      "na_vals = np.random.randint(0, 1000, len(ls_symbols))\n",
      "# Normalize the row - Typecasting as everything is int.\n",
      "na_vals = na_vals / float(sum(na_vals))\n",
      "# Reshape to a 2D matrix to append into dataframe.\n",
      "na_vals = na_vals.reshape(1, -1)\n",
      "\n",
      "# Creating Allocation DataFrames\n",
      "df_alloc = pd.DataFrame(na_vals, index=[ldt_timestamps[0]],\n",
      "                                columns=ls_symbols)\n",
      "\n",
      "dt_last_date = ldt_timestamps[0]\n",
      "# Looping through all dates and creating monthly allocations\n",
      "for dt_date in ldt_timestamps[1:]:\n",
      "    if dt_last_date.month != dt_date.month:\n",
      "        # Create allocation\n",
      "        na_vals = np.random.randint(0, 1000, len(ls_symbols))\n",
      "        na_vals = na_vals / float(sum(na_vals))\n",
      "        na_vals = na_vals.reshape(1, -1)\n",
      "        # Append to the dataframe\n",
      "        df_new_row = pd.DataFrame(na_vals, index=[dt_date],\n",
      "                                    columns=ls_symbols)\n",
      "        df_alloc = df_alloc.append(df_new_row)\n",
      "    dt_last_date = dt_date\n",
      "\n",
      "# Create the output pickle file for the dataframe.\n",
      "output = open('allocation.pkl', 'wb')\n",
      "cPickle.dump(df_alloc, output)"
     ],
     "language": "python",
     "metadata": {},
     "outputs": [
      {
       "output_type": "stream",
       "stream": "stdout",
       "text": [
        "Scratch Directory:  /var/folders/wl/ws3r_1g55rq0wkvvxp707srh00020s/T/QSScratch\n",
        "Data Directory:  /Users/michaelb/git/Coursera_Computational_Investing/QSTK-0.2.5/QSTK/qstkutil/../QSData\n"
       ]
      }
     ],
     "prompt_number": 3
    },
    {
     "cell_type": "code",
     "collapsed": false,
     "input": [],
     "language": "python",
     "metadata": {},
     "outputs": []
    }
   ],
   "metadata": {}
  }
 ]
}