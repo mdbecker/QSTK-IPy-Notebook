{
 "metadata": {
  "name": "Basic tutorial5"
 },
 "nbformat": 3,
 "nbformat_minor": 0,
 "worksheets": [
  {
   "cells": [
    {
     "cell_type": "code",
     "collapsed": true,
     "input": [
      "'''\n",
      "(c) 2011, 2012 Georgia Tech Research Corporation\n",
      "This source code is released under the New BSD license.  Please see\n",
      "http://wiki.quantsoftware.org/index.php?title=QSTK_License\n",
      "for license details.\n",
      "\n",
      "Created on January, 24, 2013\n",
      "\n",
      "@author: Sourabh Bajaj\n",
      "@contact: sourabhbajaj@gatech.edu\n",
      "@summary: Contains tutorial for backtester. Basic tutorial5\n",
      "\n",
      "Converted to IPython Notebook format by Michael Becker mike@beckerfuffle.com\n",
      "'''"
     ],
     "language": "python",
     "metadata": {},
     "outputs": [
      {
       "output_type": "pyout",
       "prompt_number": 1,
       "text": [
        "'\\n(c) 2011, 2012 Georgia Tech Research Corporation\\nThis source code is released under the New BSD license.  Please see\\nhttp://wiki.quantsoftware.org/index.php?title=QSTK_License\\nfor license details.\\n\\nCreated on January, 24, 2013\\n\\n@author: Sourabh Bajaj\\n@contact: sourabhbajaj@gatech.edu\\n@summary: Contains tutorial for backtester. Basic tutorial5\\n\\nConverted to IPython Notebook format by Michael Becker mike@beckerfuffle.com\\n'"
       ]
      }
     ],
     "prompt_number": 1
    },
    {
     "cell_type": "code",
     "collapsed": false,
     "input": [
      "# QSTK Imports\n",
      "import QSTK.qstkutil.qsdateutil as du\n",
      "import QSTK.qstkutil.tsutil as tsu\n",
      "import QSTK.qstkutil.DataAccess as da\n",
      "import QSTK.qstktools.report as report\n",
      "import QSTK.qstksim as qstksim\n",
      "\n",
      "# Third Party Imports\n",
      "import datetime as dt\n",
      "import pandas as pd\n",
      "import numpy as np"
     ],
     "language": "python",
     "metadata": {},
     "outputs": [],
     "prompt_number": 2
    },
    {
     "cell_type": "code",
     "collapsed": false,
     "input": [
      "# List of symbols\n",
      "ls_symbols = [\"AAPL\", \"GOOG\"]\n",
      "\n",
      "# Start and End date of the charts\n",
      "dt_start = dt.datetime(2008, 1, 1)\n",
      "dt_end = dt.datetime(2010, 12, 31)\n",
      "\n",
      "# We need closing prices so the timestamp should be hours=16.\n",
      "dt_timeofday = dt.timedelta(hours=16)\n",
      "\n",
      "# Get a list of trading days between the start and the end.\n",
      "ldt_timestamps = du.getNYSEdays(dt_start, dt_end, dt_timeofday)\n",
      "\n",
      "# Creating an object of the dataaccess class with Yahoo as the source.\n",
      "c_dataobj = da.DataAccess('Yahoo')\n",
      "\n",
      "# Reading just the close prices\n",
      "df_close = c_dataobj.get_data(ldt_timestamps, ls_symbols, \"close\")\n",
      "\n",
      "# Creating the allocation dataframe\n",
      "# We offset the time for the simulator to have atleast one\n",
      "# datavalue before the allocation.\n",
      "df_alloc = pd.DataFrame(np.array([[0.5, 0.5]]),\n",
      "            index=[ldt_timestamps[0] + dt.timedelta(hours=5)],\n",
      "            columns=ls_symbols)\n",
      "\n",
      "dt_last_date = ldt_timestamps[0]\n",
      "# Looping through all dates and creating monthly allocations\n",
      "for dt_date in ldt_timestamps[1:]:\n",
      "    if dt_last_date.month != dt_date.month:\n",
      "        # Create allocation\n",
      "        na_vals = np.random.randint(0, 1000, len(ls_symbols))\n",
      "        na_vals = na_vals / float(sum(na_vals))\n",
      "        na_vals = na_vals.reshape(1, -1)\n",
      "        # Append to the dataframe\n",
      "        df_new_row = pd.DataFrame(na_vals, index=[dt_date],\n",
      "                                    columns=ls_symbols)\n",
      "        df_alloc = df_alloc.append(df_new_row)\n",
      "    dt_last_date = dt_date\n",
      "\n",
      "# Adding cash to the allocation matrix\n",
      "df_alloc['_CASH'] = 0.0\n",
      "\n",
      "# Running the simulator on the allocation frame\n",
      "(ts_funds, ts_leverage, f_commission, f_slippage, f_borrow_cost) = qstksim.tradesim(df_alloc,\n",
      "                df_close, f_start_cash=10000.0, i_leastcount=1, b_followleastcount=True,\n",
      "                f_slippage=0.0005, f_minimumcommision=5.0, f_commision_share=0.0035,\n",
      "                i_target_leverage=1, f_rate_borrow=3.5, log=\"transaction.csv\")\n",
      "\n",
      "print \"Simulated Fund Time Series : \"\n",
      "print ts_funds\n",
      "print \"Transaction Costs : \"\n",
      "print \"Commissions : \", f_commission\n",
      "print \"Slippage : \", f_slippage\n",
      "print \"Borrowing Cost : \", f_borrow_cost"
     ],
     "language": "python",
     "metadata": {},
     "outputs": [
      {
       "output_type": "stream",
       "stream": "stdout",
       "text": [
        "Scratch Directory:  /var/folders/wl/ws3r_1g55rq0wkvvxp707srh00020s/T/QSScratch\n",
        "Data Directory:  /Users/michaelb/git/Coursera_Computational_Investing/QSTK-0.2.5/QSTK/qstkutil/../QSData\n",
        "writing transaction log to transaction.csv"
       ]
      },
      {
       "output_type": "stream",
       "stream": "stdout",
       "text": [
        "\n",
        "Simulated Fund Time Series : "
       ]
      },
      {
       "output_type": "stream",
       "stream": "stdout",
       "text": [
        "\n",
        "2008-01-02 16:00:00    10000.000000\n",
        "2008-01-03 16:00:00     9985.175095\n",
        "2008-01-04 16:00:00     9416.365095\n",
        "2008-01-07 16:00:00     9302.115095\n",
        "2008-01-08 16:00:00     9020.125095\n",
        "2008-01-09 16:00:00     9373.515095\n",
        "2008-01-10 16:00:00     9293.975095\n",
        "2008-01-11 16:00:00     9101.865095\n",
        "2008-01-14 16:00:00     9362.605095\n",
        "2008-01-15 16:00:00     9006.915095\n",
        "2008-01-16 16:00:00     8621.015095\n",
        "2008-01-17 16:00:00     8545.895095\n",
        "2008-01-18 16:00:00     8553.865095\n",
        "2008-01-22 16:00:00     8300.065095\n",
        "2008-01-23 16:00:00     7637.705095\n",
        "...\n",
        "2010-11-09 16:00:00    11042.991865\n",
        "2010-11-10 16:00:00    11066.271865\n",
        "2010-11-11 16:00:00    11000.411865\n",
        "2010-11-12 16:00:00    10739.901865\n",
        "2010-11-15 16:00:00    10666.541865\n",
        "2010-11-16 16:00:00    10481.121865\n",
        "2010-11-17 16:00:00    10459.411865\n",
        "2010-11-18 16:00:00    10700.391865\n",
        "2010-11-19 16:00:00    10628.171865\n",
        "2010-11-22 16:00:00    10756.301865\n",
        "2010-11-23 16:00:00    10611.241865\n",
        "2010-11-24 16:00:00    10809.721865\n",
        "2010-11-26 16:00:00    10778.731865\n",
        "2010-11-29 16:00:00    10759.031865\n",
        "2010-11-30 16:00:00    10465.931865\n",
        "Length: 735\n",
        "Transaction Costs : \n",
        "Commissions :  345.0\n",
        "Slippage :  79.577335\n",
        "Borrowing Cost :  0.0\n"
       ]
      }
     ],
     "prompt_number": 3
    },
    {
     "cell_type": "code",
     "collapsed": false,
     "input": [],
     "language": "python",
     "metadata": {},
     "outputs": []
    }
   ],
   "metadata": {}
  }
 ]
}